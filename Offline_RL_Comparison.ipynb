{
 "cells": [
  {
   "cell_type": "code",
   "execution_count": 1,
   "id": "6045578b-41ab-4a1d-9488-0138d89bfb5c",
   "metadata": {},
   "outputs": [],
   "source": [
    "# INITIALISE THE ENVIRONMENT ----------------------\n",
    "\n",
    "import numpy as np\n",
    "\n",
    "from utils import create_env\n",
    "\n",
    "# Set the parameters for the meal scenario\n",
    "prob = [0.95, 0.1, 0.95, 0.1, 0.95, 0.1]\n",
    "time_lb = np.array([5, 9, 10, 14, 16, 20])\n",
    "time_ub = np.array([9, 10, 14, 16, 20, 23])\n",
    "time_mu = np.array([7, 9.5, 12, 15, 18, 21.5])\n",
    "time_sigma = np.array([30, 15, 30, 15, 30, 15])\n",
    "amount_mu = [50, 15, 70, 15, 90, 30]\n",
    "amount_sigma = [10, 5, 10, 5, 10, 5]   \n",
    "schedule=[prob, time_lb, time_ub, time_mu, time_sigma, amount_mu, amount_sigma]\n",
    "\n",
    "# Incorporate the schedule into the environment\n",
    "create_env(schedule=schedule)"
   ]
  },
  {
   "cell_type": "code",
   "execution_count": null,
   "id": "04b98287-e72a-481e-9350-1602f8ccb10d",
   "metadata": {},
   "outputs": [],
   "source": [
    "# SPECIFY THE PARAMETERS -----------------------\n",
    "\n",
    "from utils import get_params\n",
    "\n",
    "# Get the parameters for a specified patient\n",
    "patient_params = get_params()[\"adult#1\"]\n",
    "bas = patient_params[\"u2ss\"] * (patient_params[\"BW\"] / 6000) * 3\n",
    "\n",
    "# Set the parameters\n",
    "params = {\n",
    "    \n",
    "    # Environmental\n",
    "    \"state_size\": 3,\n",
    "    \"basal_default\": bas, \n",
    "    \"target_blood_glucose\": 144.0 ,\n",
    "    \"days\": 10,    \n",
    "    \n",
    "    # PID and Bolus\n",
    "    \"carbohydrate_ratio\": patient_params[\"carbohydrate_ratio\"],\n",
    "    \"correction_factor\":  patient_params[\"correction_factor\"],\n",
    "    \"kp\": patient_params[\"kp\"],\n",
    "    \"ki\": patient_params[\"ki\"],\n",
    "    \"kd\": patient_params[\"kd\"],\n",
    "    \n",
    "    # RL \n",
    "    \"training_timesteps\": int(1e5),\n",
    "    \"device\": \"cpu\",\n",
    "    \"rnn\": None\n",
    "}"
   ]
  },
  {
   "cell_type": "code",
   "execution_count": null,
   "id": "500164b6-ab56-47cf-a09b-50381b55f8c5",
   "metadata": {},
   "outputs": [],
   "source": [
    "# COLLECT THE DATA --------------------------------\n",
    "\n",
    "from utils import fill_replay_split\n",
    "\n",
    "import gym\n",
    "\n",
    "# initialise the environment\n",
    "env = gym.make(patient_params[\"env_name\"])\n",
    "\n",
    "# Fill the replay\n",
    "full_replay = fill_replay_split(\n",
    "    env=env, \n",
    "    replay_name=patient_params[\"replay_name\"],\n",
    "    data_split=0.0,\n",
    "    noise=True,\n",
    "    bolus_noise=0.1,\n",
    "    seed=0,\n",
    "    params=params\n",
    ")"
   ]
  },
  {
   "cell_type": "code",
   "execution_count": null,
   "id": "abd3bd31-d092-4e34-b604-a4e9b14a14f9",
   "metadata": {},
   "outputs": [],
   "source": [
    "# TRAIN THE MODEL ---------------------------\n",
    "\n",
    "from utils import get_params\n",
    "from TD3_BC import td3_bc\n",
    "\n",
    "# Initialise the agent\n",
    "agent = td3_bc(\n",
    "    init_seed=0,\n",
    "    patient_params=patient_params,\n",
    "    params=params\n",
    ")\n",
    "\n",
    "# Train the agent\n",
    "agent.train_model()"
   ]
  },
  {
   "cell_type": "code",
   "execution_count": null,
   "id": "ecb7f832-bc43-4a5f-861d-db43d18890cb",
   "metadata": {},
   "outputs": [],
   "source": [
    "# TEST THE MODEL ---------------------------\n",
    "\n",
    "from utils import get_params\n",
    "from TD3_BC import td3_bc\n",
    "\n",
    "# Initialise the agent\n",
    "agent = td3_bc(\n",
    "    init_seed=0,\n",
    "    patient_params=patient_params,\n",
    "    params=params\n",
    ")\n",
    "\n",
    "# Train the agent\n",
    "agent.test_model()"
   ]
  }
 ],
 "metadata": {
  "kernelspec": {
   "display_name": "Python 3 (ipykernel)",
   "language": "python",
   "name": "python3"
  },
  "language_info": {
   "codemirror_mode": {
    "name": "ipython",
    "version": 3
   },
   "file_extension": ".py",
   "mimetype": "text/x-python",
   "name": "python",
   "nbconvert_exporter": "python",
   "pygments_lexer": "ipython3",
   "version": "3.8.13"
  }
 },
 "nbformat": 4,
 "nbformat_minor": 5
}
